{
 "cells": [
  {
   "cell_type": "code",
   "execution_count": 2,
   "id": "imported-locator",
   "metadata": {},
   "outputs": [
    {
     "data": {
      "image/png": "[encoded data removed]",
      "text/plain": [
       "<Figure size 432x360 with 1 Axes>"
      ]
     },
     "metadata": {
      "needs_background": "light"
     },
     "output_type": "display_data"
    }
   ],
   "source": [
    "import matplotlib.ticker as ticker\n",
    "import numpy as np\n",
    "from numpy import linalg as LA\n",
    "import cmath\n",
    "import math\n",
    "import matplotlib.pyplot as plt\n",
    "%matplotlib inline\n",
    "plt.rcParams[\"font.family\"] = \"Times New Roman\"\n",
    "from scipy.interpolate import approximate_taylor_polynomial\n",
    "from scipy.interpolate import interp1d\n",
    "import pandas as pd\n",
    "\n",
    "a = 2*457/430.3 #x dimension in mm\n",
    "b=2*304/430.3 #y dimension in mm\n",
    "res = 49 #Minimum resolution in each direction (arbitrary)\n",
    "\n",
    "d = np.linspace(0.001,20,1000) #d stores values of the parameter X, where \n",
    "#X=a*b/delta^2 (delta is the skin depth and sqrt(a*b) is the characteristic \n",
    "#length scale). The range of d values can be modified according to what is required,\n",
    "#but a lower bound of d=0 will produce errors. For reference, the above range of X values\n",
    "#at 671.111 kHz covers resistivities in the range of 10e5 to 50 uohmcm.\n",
    "\n",
    "chis = np.zeros(1000,dtype=np.complex_) #Stores the effective magnetic \n",
    "#susceptibility for each d value of a rectangular sample (a by b units long)\n",
    "\n",
    "for u in range(len(d)):\n",
    "    delta = math.sqrt(a*b/d[u]) #skin depth\n",
    "    k=(1-1j)/delta #k value\n",
    "    minn = np.maximum(a,b)\n",
    "    div = np.maximum(5*int(minn/delta),res) #This analysis is only useful \n",
    "    #if there are many more divisions per unit length than the inverse of \n",
    "    #the skin depth (Otherwise, valuable information is missed). This is \n",
    "    #the reason for increasing the resolution at small skin depths: div \n",
    "    #is res by default but becomes larger if the skin depth is sufficiently small.\n",
    "    \n",
    "    dx = a/(div+1) #stepsize: x direction\n",
    "    dy = b/(div+1) #stepsize: y direction\n",
    "    H0 = 1 #External field magnitude\n",
    "\n",
    "    \"\"\"This analysis solves the differential equation del^2(H)+k^2*H=0 over \n",
    "    a rectangular sample. A second order approximation for H is used, which \n",
    "    is appropriate given the presence of the Laplacian.\"\"\"\n",
    "\n",
    "    Xmat = np.zeros([div,div],dtype=np.complex_) #A matrix\n",
    "    Ymat = np.zeros([div,div],dtype=np.complex_) #B matrix\n",
    "    for i in range(div):\n",
    "        for j in range(div):\n",
    "            if (i ==j):\n",
    "                Xmat[i][j]= -2/dx**2+k**2/2 #alpha_x\n",
    "                Ymat[i][j]= -2/dy**2+k**2/2 #alpha_y\n",
    "            elif (abs(i-j) == 1):\n",
    "                Xmat[i][j]= 1/dx**2 #beta_x\n",
    "                Ymat[i][j]= 1/dy**2 #beta_y\n",
    "\n",
    "\n",
    "    C = np.zeros([div,div],dtype=np.complex_) #boundary conditions (The \n",
    "    #component of H parallel to the surface of the conductor is continuous \n",
    "    #provided there are no free surface currents.) \n",
    "    \n",
    "    for i in range(div):\n",
    "        for j in range(div):\n",
    "            if ((i==0) or (i == (div-1))):\n",
    "                C[i][j] -= H0/dx**2 \n",
    "            if ((j==0) or (j == (div-1))):\n",
    "                C[i][j] -= H0/dy**2\n",
    "                \n",
    "    #The steps below were taken from http://aero-comlab.stanford.edu/Papers/jameson_007.pdf \n",
    "    #X is the solution to the matrix equation AX + XB = C.\n",
    "\n",
    "    lam, U = LA.eig(Xmat) #lam stores the eigenvalues, U stores the eigenvectors\n",
    "    mu, V = LA.eig(Ymat) #mu stores the eigenvales, V stores the eigenvectors\n",
    "\n",
    "    C_hat = LA.inv(U)@C@V #Equation 16\n",
    "\n",
    "    X_hat = np.zeros([div,div],dtype=np.complex_)\n",
    "    for i in range(div):\n",
    "        for j in range(div):\n",
    "            X_hat[i][j] = C_hat[i][j]/(lam[i]+mu[j]) #Equation 15\n",
    "\n",
    "    X = U@X_hat@LA.inv(V) #Equation 14\n",
    "    for i in range(div):\n",
    "        for j in range(div):\n",
    "            if X[i][j].real > 1:\n",
    "                print(\"Error at position \",i,\", \",j) #It is unphysical for the \n",
    "                #field to be larger in magnitude within the conductor than outside of it \n",
    "                #(provided that it is not magnetic).\n",
    "                \n",
    "    NewX= np.zeros([div+2,div+2],dtype=np.complex_) \n",
    "    for i in range(div+2): #This for loop defines the field at the surface \n",
    "        #of the conductor (It must be H0).\n",
    "        \n",
    "        for j in range(div+2):\n",
    "            if ((i ==0) or (i==(div+1)) or (j ==0) or (j==(div+1))):\n",
    "                NewX[i][j] =H0 \n",
    "            else:\n",
    "                NewX[i][j]=X[i-1][j-1]\n",
    "    summ = 0\n",
    "    for i in range(div+1):\n",
    "        for j in range(div+1):\n",
    "            summ += (NewX[i][j]+NewX[i+1][j]+NewX[i][j+1]+NewX[i+1][j+1])*dx*dy/4 #Numerical \n",
    "            #integration of H*da\n",
    "    chis[u]=summ/(H0*a*b)-1 #Solves for the effective magnetic susceptibility\n",
    "    #at the given X value.\n",
    "    \n",
    "fig,bx = plt.subplots(1, 1, sharex = True, figsize=(6, 5))\n",
    "bx.plot(d,-chis.real)\n",
    "bx.plot(d,-chis.imag)\n",
    "bx.set_xlabel(\"X ($ab/\\u03B4$)\",fontsize=15)\n",
    "bx.set_ylabel(\"\\u03A7 (Chi)\",fontsize=15)\n",
    "bx.tick_params(axis='x', labelsize=15)\n",
    "bx.tick_params(axis='y', labelsize=15)\n",
    "\n"
   ]
  },
  {
   "cell_type": "code",
   "execution_count": 57,
   "id": "intelligent-portland",
   "metadata": {},
   "outputs": [
    {
     "data": {
      "image/png": "[encoded data removed]",
      "text/plain": [
       "<Figure size 432x288 with 1 Axes>"
      ]
     },
     "metadata": {
      "needs_background": "light"
     },
     "output_type": "display_data"
    }
   ],
   "source": [
    "\"\"\"Run the top above code cell before running this one.\"\"\"\n",
    "import matplotlib.colors as mcolors\n",
    "f=671111 #Frequency in Hz\n",
    "phase = np.zeros(len(chis))\n",
    "for i in range(len(chis)):\n",
    "    phase[i] = np.angle(chis[i])\n",
    "    \n",
    "F=interp1d(phase,d) #Interpolate the data from the plot above such that a phase can\n",
    "#be mapped to the corresponding X value.\n",
    "\n",
    "filepath = '/Users/jackzwettler/Documents/2021_3_c.xlsx' #This is the file that contains\n",
    "#the data from the probe.\n",
    "\n",
    "probe_dat = pd.read_excel(filepath) #Retrieve data\n",
    "\n",
    "Xdat = probe_dat.to_numpy() \n",
    "\n",
    "low = 3400 #This is the excel row entry when the warming stage begins.\n",
    "high = 8847 #This is the excel row entry when the warming stage ends.\n",
    "\n",
    "RT = np.zeros(high-low+1) #Temperature data for this iteration only\n",
    "RP = np.zeros(high-low+1) #phase data for this iteration only\n",
    "    \n",
    "p_off = 0.241 #This phase offset is due to the steel tube, and it is evident in the\n",
    "#output from a superconducting sample. Specifically, the phase of the output should be \n",
    "#zero for a superconductor because chi= -1. However, it is observed that Im(chi) != 0.\n",
    "        \n",
    "for i in range(high-2,low-3,-1):\n",
    "    RT[i-low+2]=Xdat[i][0] #T (K)\n",
    "    RP[i-low+2]=Xdat[i][6] #Phase (rad). This can be achieved using the \"ATAN\"\n",
    "    #function in excel or in python with numpy's \"arctan\" function.\n",
    "    \n",
    "    #Also note that Xdat is 0 indexed, i.e. the first column of an excel file is \n",
    "    #stored in Xdat[i][0].\n",
    "    \n",
    "    if (RP[i-low+2]> 0):\n",
    "        RP[i-low+2] -= np.pi+p_off #Unwrap\n",
    "    else:\n",
    "        RP[i-low+2] -= p_off\n",
    "    \n",
    "Rho = np.zeros(len(RP)) \n",
    "skin = np.zeros(len(RP)) \n",
    "test = np.zeros(len(RP)) \n",
    "color = np.zeros(len(RP))\n",
    "colors=['red','green','blue']\n",
    "for i in range(high-2,low-3,-1):\n",
    "    if (RP[i-low+2]>= max(phase)):\n",
    "        Rho[i-low+2] = 10e6 #This value is meaningless, something went wrong here\n",
    "        color[i-low+2]=1 \n",
    "    elif (RP[i-low+2]<= min(phase)): \n",
    "        Rho[i-low+2] = 0 #This value is (possibly) meaningless, but it might just be superconducting   \n",
    "        color[i-low+2]=2\n",
    "    else:\n",
    "        skin[i-low+2] = math.sqrt(a*b/F(RP[i-low+2]))/1000\n",
    "        test[i-low+2]=F(RP[i-low+2])\n",
    "        Rho[i-low+2] = (np.pi**2*f*40)*skin[i-low+2]**2\n",
    "        color[i-low+2]=3\n",
    "    \n",
    "fig,bx = plt.subplots(1, 1, sharex = True, figsize=(6, 4))\n",
    "cmap, norm = mcolors.from_levels_and_colors([0, 1.5, 2.5, 3.5], ['red', 'green', 'blue']) \n",
    "bx.scatter(RT,RP,s=1,c=color,cmap=cmap,norm=norm)\n",
    "bx.tick_params(axis='x', labelsize=15)\n",
    "bx.tick_params(axis='y', labelsize=15)\n",
    "bx.set_xlabel('Temperature (K)',fontsize = 15)\n",
    "bx.set_ylabel('Phase (rad)',fontsize = 15)\n",
    "bx.grid()\n",
    "\n",
    "\n",
    "#Red: Data is above the interpolation range (Signal might be too weak or data wasn't \n",
    "#processed properly.)\n",
    "#Blue: Data is within the interpolation range\n",
    "#Green: Data is below the interpolation range (Superconducting?)\n",
    "\n"
   ]
  },
  {
   "cell_type": "code",
   "execution_count": 46,
   "id": "herbal-basic",
   "metadata": {},
   "outputs": [
    {
     "data": {
      "text/plain": [
       "(0.0, 100.0)"
      ]
     },
     "execution_count": 46,
     "metadata": {},
     "output_type": "execute_result"
    },
    {
     "data": {
      "image/png": "[encoded data removed]",
      "text/plain": [
       "<Figure size 432x288 with 1 Axes>"
      ]
     },
     "metadata": {
      "needs_background": "light"
     },
     "output_type": "display_data"
    }
   ],
   "source": [
    "plt.plot(RT,Rho,'o')\n",
    "plt.ylim([0,100])"
   ]
  },
  {
   "cell_type": "code",
   "execution_count": 36,
   "id": "persistent-content",
   "metadata": {},
   "outputs": [
    {
     "data": {
      "text/plain": [
       "[<matplotlib.lines.Line2D at 0x11b066970>]"
      ]
     },
     "execution_count": 36,
     "metadata": {},
     "output_type": "execute_result"
    },
    {
     "data": {
      "image/png": "[encoded data removed]",
      "text/plain": [
       "<Figure size 432x288 with 1 Axes>"
      ]
     },
     "metadata": {
      "needs_background": "light"
     },
     "output_type": "display_data"
    }
   ],
   "source": [
    "plt.plot(RT,test,'o')"
   ]
  },
  {
   "cell_type": "code",
   "execution_count": 53,
   "id": "divided-ivory",
   "metadata": {},
   "outputs": [
    {
     "data": {
      "text/plain": [
       "<matplotlib.colors.BoundaryNorm at 0x119f4ffd0>"
      ]
     },
     "execution_count": 53,
     "metadata": {},
     "output_type": "execute_result"
    }
   ],
   "source": [
    "norm"
   ]
  },
  {
   "cell_type": "code",
   "execution_count": null,
   "id": "helpful-peoples",
   "metadata": {},
   "outputs": [],
   "source": []
  }
 ],
 "metadata": {
  "kernelspec": {
   "display_name": "Python 3",
   "language": "python",
   "name": "python3"
  },
  "language_info": {
   "codemirror_mode": {
    "name": "ipython",
    "version": 3
   },
   "file_extension": ".py",
   "mimetype": "text/x-python",
   "name": "python",
   "nbconvert_exporter": "python",
   "pygments_lexer": "ipython3",
   "version": "3.9.5"
  }
 },
 "nbformat": 4,
 "nbformat_minor": 5
}
