{
 "cells": [
  {
   "cell_type": "code",
   "execution_count": null,
   "id": "joint-desire",
   "metadata": {},
   "outputs": [],
   "source": [
    "import numpy as np\n",
    "import pandas as pd\n",
    "import matplotlib.pyplot as plt\n",
    "import math\n",
    "%matplotlib inline\n",
    "\"\"\"WARNING: TAKES A LONG TIME TO RUN\"\"\"\n",
    "steps= 500000 #Number of time steps\n",
    "time = np.linspace(-150,2000,steps)\n",
    "tstep = 2000/steps\n",
    "Td = -3.3476*10**(-8)*time**3+1.67*10**(-4)*time**2-0.28945*time+257.38 #Temperature of the copper (read from the temperature sensor)\n",
    "a = 2.4667*10**(-10)*Td**2 - 1.1679*10**(-7)*Td + 1.942*10**(-5) #Sapphire Thermal diffusivity \n",
    "#https://www.researchgate.net/figure/Calibrated-thermal-diffusivity-of-Al2O3-sapphire-with-temperature-using-Parker-4_fig3_338658084\n",
    "div = 40 #Consider 40 chunks of the sapphire rod\n",
    "Tx = np.zeros(div) \n",
    "Tx[0] = Td[0] #Assume that the rod starts at room temperature \n",
    "for k in range(div-1):\n",
    "    Tx[k+1]=Td[0]\n",
    "L = 1.255*0.0254 #sapphire rod length in m\n",
    "L_step = L/div\n",
    "Tend4 = np.zeros(steps) #Simulated temperature at the end of the rod (away from the temp sensor end)\n",
    "for i in range(steps):\n",
    "    d2T = np.zeros(div-2)\n",
    "    for j in range(div-2):\n",
    "        A = (Tx[j+2]-Tx[j+1])/L_step\n",
    "        B = (Tx[j+1]-Tx[j])/L_step\n",
    "        d2T[j]= (A-B)/(L_step)\n",
    "    dT = 2*0.49*5.6704*10**(-8)*0.1013*(Td[i]**4-77.3**4)/(3*3930*1.3806*L*6.022)*tstep #Radiation\n",
    "    for j in range(div):\n",
    "        a=2.4667*10**(-10)*Tx**2 - 1.1679*10**(-7)*Tx + 1.942*10**(-5)\n",
    "        if j == 0:\n",
    "            Tx[j] = Td[i]\n",
    "        elif ((j>0)and(j<(div-1))):\n",
    "            Tx[j] = Tx[j]+a[j]*d2T[j-1]*tstep - dT #Excluding the dT term, this change is due to thermal conduction. \n",
    "        elif (j==(div-1)):\n",
    "            Tx[j]=Tx[j-1]\n",
    "            Tend4[i]=Tx[j-1]\n",
    "fig,ax = plt.subplots(1,1,figsize = (8,5))\n",
    "ax.plot(time,Td)\n",
    "ax.plot(time,Tend4)\n",
    "ax.legend(['0','end'])\n",
    "ax.legend(['Copper block','End of sapphire'])"
   ]
  }
 ],
 "metadata": {
  "kernelspec": {
   "display_name": "Python 3",
   "language": "python",
   "name": "python3"
  },
  "language_info": {
   "codemirror_mode": {
    "name": "ipython",
    "version": 3
   },
   "file_extension": ".py",
   "mimetype": "text/x-python",
   "name": "python",
   "nbconvert_exporter": "python",
   "pygments_lexer": "ipython3",
   "version": "3.9.5"
  }
 },
 "nbformat": 4,
 "nbformat_minor": 5
}
